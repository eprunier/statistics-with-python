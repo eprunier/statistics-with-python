{
 "cells": [
  {
   "cell_type": "markdown",
   "metadata": {},
   "source": [
    "# Stackoverflow survey 2017\n",
    "## Import dependencies"
   ]
  },
  {
   "cell_type": "code",
   "execution_count": 1,
   "metadata": {
    "collapsed": true
   },
   "outputs": [],
   "source": [
    "import pandas as pd\n",
    "import matplotlib.pyplot as plt\n",
    "%matplotlib inline"
   ]
  },
  {
   "cell_type": "markdown",
   "metadata": {},
   "source": [
    "## Explore data"
   ]
  },
  {
   "cell_type": "code",
   "execution_count": 2,
   "metadata": {},
   "outputs": [
    {
     "name": "stdout",
     "output_type": "stream",
     "text": [
      "<class 'pandas.core.frame.DataFrame'>\n",
      "RangeIndex: 51392 entries, 0 to 51391\n",
      "Columns: 154 entries, Respondent to ExpectedSalary\n",
      "dtypes: float64(6), int64(1), object(147)\n",
      "memory usage: 60.4+ MB\n"
     ]
    }
   ],
   "source": [
    "df = pd.read_csv('../data/stackoverflow_survey_2017.csv')\n",
    "df.info()"
   ]
  },
  {
   "cell_type": "markdown",
   "metadata": {},
   "source": [
    "### Professional status"
   ]
  },
  {
   "cell_type": "code",
   "execution_count": 3,
   "metadata": {},
   "outputs": [
    {
     "data": {
      "text/plain": [
       "<matplotlib.axes._subplots.AxesSubplot at 0x7f5f2b80a7b8>"
      ]
     },
     "execution_count": 3,
     "metadata": {},
     "output_type": "execute_result"
    },
    {
     "data": {
      "image/png": "[encoded data removed]",
      "text/plain": [
       "<matplotlib.figure.Figure at 0x7f5f2bb22cc0>"
      ]
     },
     "metadata": {},
     "output_type": "display_data"
    }
   ],
   "source": [
    "pro = df['Professional']\n",
    "pro_class = df.groupby(['Professional'])['Respondent'].count().sort_values()\n",
    "pro_class.plot.barh()"
   ]
  },
  {
   "cell_type": "markdown",
   "metadata": {},
   "source": [
    "### Years of programming"
   ]
  },
  {
   "cell_type": "code",
   "execution_count": 4,
   "metadata": {},
   "outputs": [
    {
     "data": {
      "text/plain": [
       "YearsProgram\n",
       "Less than a year    1484\n",
       "1 to 2 years        2773\n",
       "2 to 3 years        3251\n",
       "3 to 4 years        3701\n",
       "4 to 5 years        3865\n",
       "5 to 6 years        3572\n",
       "6 to 7 years        2869\n",
       "7 to 8 years        2466\n",
       "8 to 9 years        1910\n",
       "9 to 10 years       3197\n",
       "10 to 11 years      2178\n",
       "11 to 12 years      1389\n",
       "12 to 13 years      1307\n",
       "13 to 14 years      1092\n",
       "14 to 15 years      2011\n",
       "15 to 16 years      1669\n",
       "16 to 17 years      1046\n",
       "17 to 18 years       879\n",
       "18 to 19 years       648\n",
       "19 to 20 years      1021\n",
       "20 or more years    8817\n",
       "Name: YearsProgram, dtype: int64"
      ]
     },
     "execution_count": 4,
     "metadata": {},
     "output_type": "execute_result"
    }
   ],
   "source": [
    "years_program_class = df.groupby('YearsProgram')['YearsProgram'].count()\n",
    "years_program_class = years_program_class.loc[['Less than a year','1 to 2 years','2 to 3 years','3 to 4 years','4 to 5 years',\n",
    "                        '5 to 6 years','6 to 7 years','7 to 8 years','8 to 9 years',\n",
    "                        '9 to 10 years','10 to 11 years','11 to 12 years','12 to 13 years',\n",
    "                        '13 to 14 years','14 to 15 years','15 to 16 years','16 to 17 years',\n",
    "                        '17 to 18 years','18 to 19 years','19 to 20 years','20 or more years']]\n",
    "years_program_class"
   ]
  },
  {
   "cell_type": "code",
   "execution_count": 11,
   "metadata": {
    "scrolled": true
   },
   "outputs": [
    {
     "data": {
      "text/plain": [
       "<matplotlib.axes._subplots.AxesSubplot at 0x7f5f2c433ef0>"
      ]
     },
     "execution_count": 11,
     "metadata": {},
     "output_type": "execute_result"
    },
    {
     "data": {
      "image/png": "[encoded data removed]",
      "text/plain": [
       "<matplotlib.figure.Figure at 0x7f5f2c28f7f0>"
      ]
     },
     "metadata": {},
     "output_type": "display_data"
    }
   ],
   "source": [
    "years_program_class.plot.bar()"
   ]
  },
  {
   "cell_type": "code",
   "execution_count": 6,
   "metadata": {},
   "outputs": [
    {
     "data": {
      "text/plain": [
       "2.4332706411394329"
      ]
     },
     "execution_count": 6,
     "metadata": {},
     "output_type": "execute_result"
    }
   ],
   "source": [
    "years_program_class.skew()"
   ]
  },
  {
   "cell_type": "code",
   "execution_count": null,
   "metadata": {
    "scrolled": true
   },
   "outputs": [],
   "source": [
    "print('Mean salary is {:.0f}'.format(df['Salary'].mean()))\n",
    "print('Median salary is {:.0f}'.format(df['Salary'].median()))\n",
    "print('Modes salary is {}'.format(df['Salary'].mode()))"
   ]
  },
  {
   "cell_type": "code",
   "execution_count": null,
   "metadata": {
    "collapsed": true
   },
   "outputs": [],
   "source": []
  }
 ],
 "metadata": {
  "kernelspec": {
   "display_name": "Python 3",
   "language": "python",
   "name": "python3"
  },
  "language_info": {
   "codemirror_mode": {
    "name": "ipython",
    "version": 3
   },
   "file_extension": ".py",
   "mimetype": "text/x-python",
   "name": "python",
   "nbconvert_exporter": "python",
   "pygments_lexer": "ipython3",
   "version": "3.6.1"
  }
 },
 "nbformat": 4,
 "nbformat_minor": 2
}
