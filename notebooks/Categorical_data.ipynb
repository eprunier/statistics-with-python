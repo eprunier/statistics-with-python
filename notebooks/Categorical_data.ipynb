{
 "cells": [
  {
   "cell_type": "markdown",
   "metadata": {},
   "source": [
    "# Categorical data from Stackoverflow survey 2017"
   ]
  },
  {
   "cell_type": "code",
   "execution_count": null,
   "metadata": {
    "collapsed": true
   },
   "outputs": [],
   "source": [
    "import pandas as pd\n",
    "import matplotlib.pyplot as plt\n",
    "%matplotlib inline"
   ]
  },
  {
   "cell_type": "markdown",
   "metadata": {},
   "source": [
    "## Import stackoverflow survey"
   ]
  },
  {
   "cell_type": "code",
   "execution_count": null,
   "metadata": {},
   "outputs": [],
   "source": [
    "df = pd.read_csv('../data/stackoverflow_survey_2017.csv')\n",
    "df.info()"
   ]
  },
  {
   "cell_type": "markdown",
   "metadata": {},
   "source": [
    "## Visualization\n",
    "Categorical data can be visualized with:\n",
    "* Pie charts\n",
    "* Bar charts\n",
    "* Frequency distribution tables\n",
    "* Pareto diagrams"
   ]
  },
  {
   "cell_type": "markdown",
   "metadata": {},
   "source": [
    "### Professional status pie chart"
   ]
  },
  {
   "cell_type": "code",
   "execution_count": null,
   "metadata": {},
   "outputs": [],
   "source": [
    "pro = df['Professional']\n",
    "pro_class = df.groupby(['Professional'])['Respondent'].count().sort_values()\n",
    "pro_class.plot(kind='pie', figsize=(5,5))"
   ]
  },
  {
   "cell_type": "markdown",
   "metadata": {},
   "source": [
    "### Years of programming bar chart"
   ]
  },
  {
   "cell_type": "code",
   "execution_count": null,
   "metadata": {},
   "outputs": [],
   "source": [
    "years_program_class = df.groupby('YearsProgram')['YearsProgram'].count()\n",
    "years_program_class = years_program_class.loc[['Less than a year','1 to 2 years','2 to 3 years','3 to 4 years','4 to 5 years',\n",
    "                        '5 to 6 years','6 to 7 years','7 to 8 years','8 to 9 years',\n",
    "                        '9 to 10 years','10 to 11 years','11 to 12 years','12 to 13 years',\n",
    "                        '13 to 14 years','14 to 15 years','15 to 16 years','16 to 17 years',\n",
    "                        '17 to 18 years','18 to 19 years','19 to 20 years','20 or more years']]\n",
    "years_program_class"
   ]
  },
  {
   "cell_type": "code",
   "execution_count": null,
   "metadata": {
    "scrolled": true
   },
   "outputs": [],
   "source": [
    "years_program_class.plot(kind='bar', figsize=(7,5))"
   ]
  }
 ],
 "metadata": {
  "kernelspec": {
   "display_name": "Python 3",
   "language": "python",
   "name": "python3"
  },
  "language_info": {
   "codemirror_mode": {
    "name": "ipython",
    "version": 3
   },
   "file_extension": ".py",
   "mimetype": "text/x-python",
   "name": "python",
   "nbconvert_exporter": "python",
   "pygments_lexer": "ipython3",
   "version": "3.6.1"
  }
 },
 "nbformat": 4,
 "nbformat_minor": 2
}
